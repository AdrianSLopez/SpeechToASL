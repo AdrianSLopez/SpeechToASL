{
 "cells": [
  {
   "cell_type": "code",
   "execution_count": 1,
   "id": "d14dbe67",
   "metadata": {},
   "outputs": [],
   "source": [
    "import pandas as pd\n",
    "import spacy\n",
    "import generate_text_v1\n",
    "import os"
   ]
  },
  {
   "cell_type": "markdown",
   "id": "669310da",
   "metadata": {},
   "source": [
    "#### 1. Parse text"
   ]
  },
  {
   "cell_type": "code",
   "execution_count": 2,
   "id": "cc7ece60",
   "metadata": {},
   "outputs": [],
   "source": [
    "nlp = spacy.load(\"en_core_web_sm\")"
   ]
  },
  {
   "cell_type": "code",
   "execution_count": null,
   "id": "51517566",
   "metadata": {},
   "outputs": [],
   "source": [
    "#see if you can train with spaCY pretrained model\n"
   ]
  }
 ],
 "metadata": {
  "kernelspec": {
   "display_name": "Python 3 (ipykernel)",
   "language": "python",
   "name": "python3"
  },
  "language_info": {
   "codemirror_mode": {
    "name": "ipython",
    "version": 3
   },
   "file_extension": ".py",
   "mimetype": "text/x-python",
   "name": "python",
   "nbconvert_exporter": "python",
   "pygments_lexer": "ipython3",
   "version": "3.9.7"
  }
 },
 "nbformat": 4,
 "nbformat_minor": 5
}
